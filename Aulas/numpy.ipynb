{
  "nbformat": 4,
  "nbformat_minor": 0,
  "metadata": {
    "colab": {
      "provenance": [],
      "authorship_tag": "ABX9TyPkp6XwpA+kJWERTzFytKSt",
      "include_colab_link": true
    },
    "kernelspec": {
      "name": "python3",
      "display_name": "Python 3"
    },
    "language_info": {
      "name": "python"
    }
  },
  "cells": [
    {
      "cell_type": "markdown",
      "metadata": {
        "id": "view-in-github",
        "colab_type": "text"
      },
      "source": [
        "<a href=\"https://colab.research.google.com/github/Alinedev85/GYM-PYTHON/blob/main/numpy.ipynb\" target=\"_parent\"><img src=\"https://colab.research.google.com/assets/colab-badge.svg\" alt=\"Open In Colab\"/></a>"
      ]
    },
    {
      "cell_type": "code",
      "execution_count": 1,
      "metadata": {
        "id": "h1NsK24YGy9z"
      },
      "outputs": [],
      "source": [
        "import numpy as np"
      ]
    },
    {
      "cell_type": "code",
      "source": [
        "# Matriz"
      ],
      "metadata": {
        "id": "8g62DTPqL_FE"
      },
      "execution_count": null,
      "outputs": []
    },
    {
      "cell_type": "code",
      "source": [
        "m = np.array([10,24,54,78,31])\n",
        "m"
      ],
      "metadata": {
        "colab": {
          "base_uri": "https://localhost:8080/"
        },
        "id": "KnPo_Bt8MC1B",
        "outputId": "4c3c9eec-9a78-4798-efdc-ac034c67ffe7"
      },
      "execution_count": 5,
      "outputs": [
        {
          "output_type": "execute_result",
          "data": {
            "text/plain": [
              "array([10, 24, 54, 78, 31])"
            ]
          },
          "metadata": {},
          "execution_count": 5
        }
      ]
    },
    {
      "cell_type": "code",
      "source": [
        "type(m)"
      ],
      "metadata": {
        "colab": {
          "base_uri": "https://localhost:8080/"
        },
        "id": "I0gMeR9aMqLI",
        "outputId": "0fd2d18e-6642-4489-88ac-1bdb043f75ab"
      },
      "execution_count": 6,
      "outputs": [
        {
          "output_type": "execute_result",
          "data": {
            "text/plain": [
              "numpy.ndarray"
            ]
          },
          "metadata": {},
          "execution_count": 6
        }
      ]
    },
    {
      "cell_type": "code",
      "source": [
        "print(m)"
      ],
      "metadata": {
        "colab": {
          "base_uri": "https://localhost:8080/"
        },
        "id": "MauUuT5BODfw",
        "outputId": "ae2bc968-2a05-4257-a39c-4b29cc740aa6"
      },
      "execution_count": 7,
      "outputs": [
        {
          "output_type": "stream",
          "name": "stdout",
          "text": [
            "[10 24 54 78 31]\n"
          ]
        }
      ]
    },
    {
      "cell_type": "code",
      "source": [
        "print('{}'.format(m[2]))"
      ],
      "metadata": {
        "colab": {
          "base_uri": "https://localhost:8080/"
        },
        "id": "KVGu0AhCOH6r",
        "outputId": "390f93b5-f935-42bd-b2a3-9fa8641d53ac"
      },
      "execution_count": 8,
      "outputs": [
        {
          "output_type": "stream",
          "name": "stdout",
          "text": [
            "54\n"
          ]
        }
      ]
    },
    {
      "cell_type": "code",
      "source": [
        "print('{}'.format(m[0:4]))"
      ],
      "metadata": {
        "colab": {
          "base_uri": "https://localhost:8080/"
        },
        "id": "z_I1i-eOOuD3",
        "outputId": "0e193dff-145a-4e7f-8b73-cba57d64c467"
      },
      "execution_count": 14,
      "outputs": [
        {
          "output_type": "stream",
          "name": "stdout",
          "text": [
            "[10 24 54 78]\n"
          ]
        }
      ]
    },
    {
      "cell_type": "code",
      "source": [
        "m"
      ],
      "metadata": {
        "colab": {
          "base_uri": "https://localhost:8080/"
        },
        "id": "jsmqWizLPN9E",
        "outputId": "28cfeb41-af72-48dd-c268-4aa0a96817de"
      },
      "execution_count": 15,
      "outputs": [
        {
          "output_type": "execute_result",
          "data": {
            "text/plain": [
              "array([10, 24, 54, 78, 31])"
            ]
          },
          "metadata": {},
          "execution_count": 15
        }
      ]
    },
    {
      "cell_type": "code",
      "source": [
        "# mostra a quantidade de linhas\n",
        "print(m.shape)"
      ],
      "metadata": {
        "colab": {
          "base_uri": "https://localhost:8080/"
        },
        "id": "TWO9rEsIPSKS",
        "outputId": "9e26c739-57cc-42ec-8d12-8bc6522cc9e5"
      },
      "execution_count": 17,
      "outputs": [
        {
          "output_type": "stream",
          "name": "stdout",
          "text": [
            "(5,)\n"
          ]
        }
      ]
    },
    {
      "cell_type": "code",
      "source": [
        "md = np.array([[1,2,3,4,5,6], [7,8,9,10,11,12]])"
      ],
      "metadata": {
        "id": "nVkRbbZvPjuH"
      },
      "execution_count": 18,
      "outputs": []
    },
    {
      "cell_type": "code",
      "source": [
        "print('{}'.format(md))"
      ],
      "metadata": {
        "colab": {
          "base_uri": "https://localhost:8080/"
        },
        "id": "orynF1TzPjwA",
        "outputId": "492f994a-a848-4760-955f-74b4470b9c9a"
      },
      "execution_count": 19,
      "outputs": [
        {
          "output_type": "stream",
          "name": "stdout",
          "text": [
            "[[ 1  2  3  4  5  6]\n",
            " [ 7  8  9 10 11 12]]\n"
          ]
        }
      ]
    },
    {
      "cell_type": "code",
      "source": [
        "md.T # transpor um array"
      ],
      "metadata": {
        "colab": {
          "base_uri": "https://localhost:8080/"
        },
        "id": "l5Vh6rxSPjyk",
        "outputId": "a4d919a6-9671-41ad-df58-cbdba4896c36"
      },
      "execution_count": 20,
      "outputs": [
        {
          "output_type": "execute_result",
          "data": {
            "text/plain": [
              "array([[ 1,  7],\n",
              "       [ 2,  8],\n",
              "       [ 3,  9],\n",
              "       [ 4, 10],\n",
              "       [ 5, 11],\n",
              "       [ 6, 12]])"
            ]
          },
          "metadata": {},
          "execution_count": 20
        }
      ]
    },
    {
      "cell_type": "code",
      "source": [
        "md[1,1]"
      ],
      "metadata": {
        "colab": {
          "base_uri": "https://localhost:8080/"
        },
        "id": "v30JvU0xRZR_",
        "outputId": "fb40533d-5fd7-4212-81fc-c0d26cc64bde"
      },
      "execution_count": 24,
      "outputs": [
        {
          "output_type": "execute_result",
          "data": {
            "text/plain": [
              "8"
            ]
          },
          "metadata": {},
          "execution_count": 24
        }
      ]
    },
    {
      "cell_type": "code",
      "source": [
        "md[1][1]"
      ],
      "metadata": {
        "colab": {
          "base_uri": "https://localhost:8080/"
        },
        "id": "oLesLrTqR5OJ",
        "outputId": "7e07e155-cb36-425d-850d-7af371b12ba1"
      },
      "execution_count": 25,
      "outputs": [
        {
          "output_type": "execute_result",
          "data": {
            "text/plain": [
              "8"
            ]
          },
          "metadata": {},
          "execution_count": 25
        }
      ]
    },
    {
      "cell_type": "code",
      "source": [
        "md.shape[0]\n",
        " # o parametro de entrada 0 permite ver a quantidade de linhas do array\n",
        " # 0 para linhas  1 para colunas"
      ],
      "metadata": {
        "colab": {
          "base_uri": "https://localhost:8080/"
        },
        "id": "_E3zyTnzSE7v",
        "outputId": "80e61441-e55f-4fb2-d119-d20d189a9793"
      },
      "execution_count": 26,
      "outputs": [
        {
          "output_type": "execute_result",
          "data": {
            "text/plain": [
              "2"
            ]
          },
          "metadata": {},
          "execution_count": 26
        }
      ]
    },
    {
      "cell_type": "code",
      "source": [
        "md.shape[1]\n",
        " # o parametro de entrada 0 permite ver a quantidade de linhas do array\n",
        " # 0 para linhas  1 para colunas"
      ],
      "metadata": {
        "colab": {
          "base_uri": "https://localhost:8080/"
        },
        "id": "xtyUVtUNSbWx",
        "outputId": "69ac1325-3d00-4c2a-8fae-868d2bd2ca20"
      },
      "execution_count": 27,
      "outputs": [
        {
          "output_type": "execute_result",
          "data": {
            "text/plain": [
              "6"
            ]
          },
          "metadata": {},
          "execution_count": 27
        }
      ]
    },
    {
      "cell_type": "code",
      "source": [
        "# submatriz  recebe as linhas localizadas na posição 0 e 1 e colunas de zeero a 2\n",
        "\n",
        "subMd = md[0:2, 0:3]\n",
        "subMd"
      ],
      "metadata": {
        "colab": {
          "base_uri": "https://localhost:8080/"
        },
        "id": "BP95FKLSSeCB",
        "outputId": "6e4aefbd-ae9f-4355-9ddb-9d6866a23dc5"
      },
      "execution_count": 29,
      "outputs": [
        {
          "output_type": "execute_result",
          "data": {
            "text/plain": [
              "array([[1, 2, 3],\n",
              "       [7, 8, 9]])"
            ]
          },
          "metadata": {},
          "execution_count": 29
        }
      ]
    },
    {
      "cell_type": "code",
      "source": [
        "subMd = md[0:2, 0:3]\n",
        "print(\"{}\".format(subMd))"
      ],
      "metadata": {
        "colab": {
          "base_uri": "https://localhost:8080/"
        },
        "id": "xkdBfNoATJAX",
        "outputId": "7f63c309-4ded-46b0-a24f-88d2a6520efd"
      },
      "execution_count": 30,
      "outputs": [
        {
          "output_type": "stream",
          "name": "stdout",
          "text": [
            "[[1 2 3]\n",
            " [7 8 9]]\n"
          ]
        }
      ]
    },
    {
      "cell_type": "code",
      "source": [
        "#modificar elemento das matrizes\n",
        "# tudo que for null receba o numero ou uma letra para depois usar os filtros\n",
        "md[1][1] = 11\n",
        "md"
      ],
      "metadata": {
        "colab": {
          "base_uri": "https://localhost:8080/"
        },
        "id": "CDmBuL3vTbCz",
        "outputId": "5f69be3c-e9d3-49c8-ff9e-436767accc32"
      },
      "execution_count": 31,
      "outputs": [
        {
          "output_type": "execute_result",
          "data": {
            "text/plain": [
              "array([[ 1,  2,  3,  4,  5,  6],\n",
              "       [ 7, 11,  9, 10, 11, 12]])"
            ]
          },
          "metadata": {},
          "execution_count": 31
        }
      ]
    },
    {
      "cell_type": "code",
      "source": [
        "md[1][1] = 0"
      ],
      "metadata": {
        "id": "rqkUxrvjUtu7"
      },
      "execution_count": 35,
      "outputs": []
    },
    {
      "cell_type": "code",
      "source": [
        "md\n"
      ],
      "metadata": {
        "colab": {
          "base_uri": "https://localhost:8080/"
        },
        "id": "pVTaDNDqU0LK",
        "outputId": "1324b7bf-4334-48e9-ac5b-e06a02bca218"
      },
      "execution_count": 36,
      "outputs": [
        {
          "output_type": "execute_result",
          "data": {
            "text/plain": [
              "array([[ 1,  2,  3,  4,  5,  6],\n",
              "       [ 7,  0,  9, 10, 11, 12]])"
            ]
          },
          "metadata": {},
          "execution_count": 36
        }
      ]
    },
    {
      "cell_type": "code",
      "source": [
        "#transformar para numero real\n",
        "mr =np.array([[1.0,2,3,4,5],[1000,12,32111,788,1],[6,7,8,9,1999]])\n",
        "mr"
      ],
      "metadata": {
        "colab": {
          "base_uri": "https://localhost:8080/"
        },
        "id": "1e-flOG7VlTx",
        "outputId": "9aa8e85d-bbd2-40d7-f053-2fda73298399"
      },
      "execution_count": 38,
      "outputs": [
        {
          "output_type": "execute_result",
          "data": {
            "text/plain": [
              "array([[1.0000e+00, 2.0000e+00, 3.0000e+00, 4.0000e+00, 5.0000e+00],\n",
              "       [1.0000e+03, 1.2000e+01, 3.2111e+04, 7.8800e+02, 1.0000e+00],\n",
              "       [6.0000e+00, 7.0000e+00, 8.0000e+00, 9.0000e+00, 1.9990e+03]])"
            ]
          },
          "metadata": {},
          "execution_count": 38
        }
      ]
    },
    {
      "cell_type": "code",
      "source": [
        "print(\"{}\".format(mr))"
      ],
      "metadata": {
        "colab": {
          "base_uri": "https://localhost:8080/"
        },
        "id": "pQSTqCocWMHD",
        "outputId": "5381e1bd-af53-430c-b349-094d6aa16ab2"
      },
      "execution_count": 39,
      "outputs": [
        {
          "output_type": "stream",
          "name": "stdout",
          "text": [
            "[[1.0000e+00 2.0000e+00 3.0000e+00 4.0000e+00 5.0000e+00]\n",
            " [1.0000e+03 1.2000e+01 3.2111e+04 7.8800e+02 1.0000e+00]\n",
            " [6.0000e+00 7.0000e+00 8.0000e+00 9.0000e+00 1.9990e+03]]\n"
          ]
        }
      ]
    }
  ]
}