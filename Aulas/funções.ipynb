{
  "nbformat": 4,
  "nbformat_minor": 0,
  "metadata": {
    "colab": {
      "provenance": [],
      "authorship_tag": "ABX9TyPYGOnooxbwhqYxNVHvCLog",
      "include_colab_link": true
    },
    "kernelspec": {
      "name": "python3",
      "display_name": "Python 3"
    },
    "language_info": {
      "name": "python"
    }
  },
  "cells": [
    {
      "cell_type": "markdown",
      "metadata": {
        "id": "view-in-github",
        "colab_type": "text"
      },
      "source": [
        "<a href=\"https://colab.research.google.com/github/Alinedev85/GYM-PYTHON/blob/main/fun%C3%A7%C3%B5es.ipynb\" target=\"_parent\"><img src=\"https://colab.research.google.com/assets/colab-badge.svg\" alt=\"Open In Colab\"/></a>"
      ]
    },
    {
      "cell_type": "code",
      "execution_count": null,
      "metadata": {
        "id": "ILHUU6E5dw69"
      },
      "outputs": [],
      "source": [
        "# funções"
      ]
    },
    {
      "cell_type": "code",
      "source": [
        "def identificacao(nome,idade):\n",
        "  print('olá', nome, 'Você é jovem ainda, tem', idade, 'anos!')"
      ],
      "metadata": {
        "id": "HTxq9641dzT1"
      },
      "execution_count": 13,
      "outputs": []
    },
    {
      "cell_type": "code",
      "source": [
        "identificacao('Aline', 38)\n"
      ],
      "metadata": {
        "colab": {
          "base_uri": "https://localhost:8080/"
        },
        "id": "Pkd-wtF4gptm",
        "outputId": "b3641604-0ab6-41f2-dcad-ad1d477f343d"
      },
      "execution_count": 14,
      "outputs": [
        {
          "output_type": "stream",
          "name": "stdout",
          "text": [
            "olá Aline Você é jovem ainda, tem 38 anos!\n"
          ]
        }
      ]
    },
    {
      "cell_type": "code",
      "source": [],
      "metadata": {
        "id": "NupEuskZjKZp"
      },
      "execution_count": null,
      "outputs": []
    },
    {
      "cell_type": "code",
      "source": [
        "def maior (x,y):\n",
        "  if x < y:\n",
        "    print ('o maior numero é', y)\n",
        "  elif x == y:\n",
        "    print ('os numeros são iguais ')\n",
        "  else:\n",
        "    print ('o maior número é', x)\n"
      ],
      "metadata": {
        "id": "JGe1_vZrhMw5"
      },
      "execution_count": 15,
      "outputs": []
    },
    {
      "cell_type": "code",
      "source": [
        "maior (21, 16)"
      ],
      "metadata": {
        "colab": {
          "base_uri": "https://localhost:8080/"
        },
        "id": "aWHNyOoaiqbZ",
        "outputId": "7cce6a85-c904-43ec-ea71-624f762077bb"
      },
      "execution_count": 16,
      "outputs": [
        {
          "output_type": "stream",
          "name": "stdout",
          "text": [
            "o maior número é 21\n"
          ]
        }
      ]
    },
    {
      "cell_type": "code",
      "source": [
        "maior (100, 100)"
      ],
      "metadata": {
        "colab": {
          "base_uri": "https://localhost:8080/"
        },
        "id": "UWXThKI2i4Cf",
        "outputId": "2ec2b582-22a5-4168-f68c-b8deafc7ab64"
      },
      "execution_count": 17,
      "outputs": [
        {
          "output_type": "stream",
          "name": "stdout",
          "text": [
            "os numeros são iguais \n"
          ]
        }
      ]
    },
    {
      "cell_type": "code",
      "source": [
        "maior (1,5)"
      ],
      "metadata": {
        "colab": {
          "base_uri": "https://localhost:8080/"
        },
        "id": "_56jm1Lri88E",
        "outputId": "312138c3-05a4-46d6-9f81-8cc683117306"
      },
      "execution_count": 18,
      "outputs": [
        {
          "output_type": "stream",
          "name": "stdout",
          "text": [
            "o maior numero é 5\n"
          ]
        }
      ]
    },
    {
      "cell_type": "code",
      "source": [],
      "metadata": {
        "id": "VPjLrr2LjH-s"
      },
      "execution_count": null,
      "outputs": []
    },
    {
      "cell_type": "code",
      "source": [
        "def pitagoras (cat1,cat2,hip):\n",
        "\n",
        "  if hip == '?':\n",
        "    hip =(cat1**2 + cat2**2)**(1/2)\n",
        "    print('a hipotenusa é', hip)\n",
        "  elif cat1 =='?':\n",
        "    cat1 =(hip**2 - cat2**2)**(1/2)\n",
        "    print('o cateto é', cat1)\n",
        "  elif cat2 =='?':\n",
        "    cat2= (hip**2 - cat1**2)**(1/2)\n",
        "    print('o cateto é',cat2)"
      ],
      "metadata": {
        "id": "3rLhhmVHjLvJ"
      },
      "execution_count": 23,
      "outputs": []
    },
    {
      "cell_type": "code",
      "source": [
        "pitagoras ('?',4,5)"
      ],
      "metadata": {
        "colab": {
          "base_uri": "https://localhost:8080/"
        },
        "id": "4f65eAFvlReT",
        "outputId": "3032254d-6d0e-49ca-ff88-bec0eed51dbb"
      },
      "execution_count": 27,
      "outputs": [
        {
          "output_type": "stream",
          "name": "stdout",
          "text": [
            "o cateto é 3.0\n"
          ]
        }
      ]
    },
    {
      "cell_type": "code",
      "source": [
        "pitagoras (3,'?',5)"
      ],
      "metadata": {
        "colab": {
          "base_uri": "https://localhost:8080/"
        },
        "id": "z0C-gxaIl7tY",
        "outputId": "47b51432-0ae1-41ff-cb0b-3b01b348c2e7"
      },
      "execution_count": 28,
      "outputs": [
        {
          "output_type": "stream",
          "name": "stdout",
          "text": [
            "o cateto é 4.0\n"
          ]
        }
      ]
    },
    {
      "cell_type": "code",
      "source": [
        " pitagoras (3,4,'?')"
      ],
      "metadata": {
        "colab": {
          "base_uri": "https://localhost:8080/"
        },
        "id": "qaL9GdSruIGS",
        "outputId": "3305a967-1913-45c6-bf1a-f0961dbd8169"
      },
      "execution_count": 31,
      "outputs": [
        {
          "output_type": "stream",
          "name": "stdout",
          "text": [
            "a hipotenusa é 5.0\n"
          ]
        }
      ]
    }
  ]
}