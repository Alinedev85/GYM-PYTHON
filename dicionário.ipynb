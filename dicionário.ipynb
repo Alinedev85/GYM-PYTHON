{
  "nbformat": 4,
  "nbformat_minor": 0,
  "metadata": {
    "colab": {
      "provenance": [],
      "authorship_tag": "ABX9TyOe2H0JjjLzdNVmOekEClmm",
      "include_colab_link": true
    },
    "kernelspec": {
      "name": "python3",
      "display_name": "Python 3"
    },
    "language_info": {
      "name": "python"
    }
  },
  "cells": [
    {
      "cell_type": "markdown",
      "metadata": {
        "id": "view-in-github",
        "colab_type": "text"
      },
      "source": [
        "<a href=\"https://colab.research.google.com/github/Alinedev85/GYM-PYTHON/blob/main/dicion%C3%A1rio.ipynb\" target=\"_parent\"><img src=\"https://colab.research.google.com/assets/colab-badge.svg\" alt=\"Open In Colab\"/></a>"
      ]
    },
    {
      "cell_type": "code",
      "execution_count": null,
      "metadata": {
        "id": "XHtnDdnuZUFC"
      },
      "outputs": [],
      "source": [
        "#dicionários"
      ]
    },
    {
      "cell_type": "code",
      "source": [
        "pessoas = { 'nome': 'Aline', 'genero': 'feminino', 'idade': 38 }\n",
        "display(pessoas)"
      ],
      "metadata": {
        "colab": {
          "base_uri": "https://localhost:8080/",
          "height": 34
        },
        "id": "uf_tT99UZc50",
        "outputId": "cd63b8ac-ad67-4645-ce26-bed7d167c458"
      },
      "execution_count": 3,
      "outputs": [
        {
          "output_type": "display_data",
          "data": {
            "text/plain": [
              "{'nome': 'Aline', 'genero': 'feminino', 'idade': 38}"
            ]
          },
          "metadata": {}
        }
      ]
    },
    {
      "cell_type": "code",
      "source": [
        "pessoas['time'] = 'bandeirinha'\n",
        "display(pessoas)"
      ],
      "metadata": {
        "colab": {
          "base_uri": "https://localhost:8080/",
          "height": 34
        },
        "id": "LftAwxDkaV76",
        "outputId": "bfc9af1f-b50d-4a1d-f05e-00341c15b613"
      },
      "execution_count": 4,
      "outputs": [
        {
          "output_type": "display_data",
          "data": {
            "text/plain": [
              "{'nome': 'Aline', 'genero': 'feminino', 'idade': 38, 'time': 'bandeirinha'}"
            ]
          },
          "metadata": {}
        }
      ]
    },
    {
      "cell_type": "code",
      "source": [
        "del pessoas['idade']\n",
        "display(pessoas)"
      ],
      "metadata": {
        "colab": {
          "base_uri": "https://localhost:8080/",
          "height": 34
        },
        "id": "uUr6SRVQalva",
        "outputId": "7a2b2eed-187d-4a0f-c65d-df31ecd23877"
      },
      "execution_count": 5,
      "outputs": [
        {
          "output_type": "display_data",
          "data": {
            "text/plain": [
              "{'nome': 'Aline', 'genero': 'feminino', 'time': 'bandeirinha'}"
            ]
          },
          "metadata": {}
        }
      ]
    }
  ]
}